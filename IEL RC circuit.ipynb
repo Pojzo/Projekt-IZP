{
 "cells": [
  {
   "cell_type": "code",
   "execution_count": 1,
   "id": "5eed789f",
   "metadata": {},
   "outputs": [],
   "source": [
    "import math\n",
    "import numpy as np\n",
    "from matplotlib import pyplot as plt"
   ]
  },
  {
   "cell_type": "code",
   "execution_count": 29,
   "id": "064f8ed8",
   "metadata": {},
   "outputs": [],
   "source": [
    "C = 1\n",
    "u1 = 1\n",
    "R = 1\n",
    "def du2_dt (t):\n",
    "    return (math.pow(math.e, ((-t*(C*R))) / (C * R))) \n",
    "\n",
    "def i(t):\n",
    "    return C * du2_dt(t)"
   ]
  },
  {
   "cell_type": "code",
   "execution_count": 35,
   "id": "63158669",
   "metadata": {},
   "outputs": [],
   "source": [
    "time_d = 1000\n",
    "u_y = []\n",
    "t_x = np.linspace(0, 5, time_d)\n",
    "for i in t_x:\n",
    "    u_y.append(du2_dt(i))"
   ]
  },
  {
   "cell_type": "code",
   "execution_count": 42,
   "id": "3341ecfe",
   "metadata": {},
   "outputs": [
    {
     "ename": "AttributeError",
     "evalue": "'numpy.ndarray' object has no attribute 'where'",
     "output_type": "error",
     "traceback": [
      "\u001b[0;31m---------------------------------------------------------------------------\u001b[0m",
      "\u001b[0;31mAttributeError\u001b[0m                            Traceback (most recent call last)",
      "\u001b[0;32m/tmp/ipykernel_19800/677168022.py\u001b[0m in \u001b[0;36m<module>\u001b[0;34m\u001b[0m\n\u001b[0;32m----> 1\u001b[0;31m \u001b[0mt_x\u001b[0m\u001b[0;34m.\u001b[0m\u001b[0mwhere\u001b[0m\u001b[0;34m(\u001b[0m\u001b[0;36m1\u001b[0m\u001b[0;34m)\u001b[0m\u001b[0;34m\u001b[0m\u001b[0;34m\u001b[0m\u001b[0m\n\u001b[0m",
      "\u001b[0;31mAttributeError\u001b[0m: 'numpy.ndarray' object has no attribute 'where'"
     ]
    }
   ],
   "source": []
  },
  {
   "cell_type": "code",
   "execution_count": 45,
   "id": "c4ebd7af",
   "metadata": {},
   "outputs": [
    {
     "data": {
      "image/png": "[encoded data removed]",
      "text/plain": [
       "<Figure size 432x288 with 1 Axes>"
      ]
     },
     "metadata": {
      "needs_background": "light"
     },
     "output_type": "display_data"
    }
   ],
   "source": [
    "plt.plot(t_x, u_y, color='r')\n",
    "plt.scatter([1], [du2_dt(1)])\n",
    "plt.xlabel(\"t[s]\")\n",
    "plt.ylabel(\"u[V]\")\n",
    "plt.grid()"
   ]
  },
  {
   "cell_type": "code",
   "execution_count": 32,
   "id": "ff5e47ce",
   "metadata": {},
   "outputs": [
    {
     "data": {
      "text/plain": [
       "0.0015819767068693264"
      ]
     },
     "execution_count": 32,
     "metadata": {},
     "output_type": "execute_result"
    }
   ],
   "source": []
  },
  {
   "cell_type": "code",
   "execution_count": null,
   "id": "7fc29ba3",
   "metadata": {},
   "outputs": [],
   "source": []
  }
 ],
 "metadata": {
  "kernelspec": {
   "display_name": "Python 3 (ipykernel)",
   "language": "python",
   "name": "python3"
  },
  "language_info": {
   "codemirror_mode": {
    "name": "ipython",
    "version": 3
   },
   "file_extension": ".py",
   "mimetype": "text/x-python",
   "name": "python",
   "nbconvert_exporter": "python",
   "pygments_lexer": "ipython3",
   "version": "3.9.2"
  }
 },
 "nbformat": 4,
 "nbformat_minor": 5
}
